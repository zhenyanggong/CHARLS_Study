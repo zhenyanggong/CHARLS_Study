{
 "cells": [
  {
   "cell_type": "code",
   "execution_count": 3,
   "metadata": {},
   "outputs": [],
   "source": [
    "import os\n",
    "import pandas as pd\n",
    "import feather\n",
    "import numpy as np\n",
    "import statsmodels.formula.api as sm\n",
    "from statsmodels.api import add_constant\n",
    "import itertools\n",
    "import string\n",
    "# get 2011 data\n",
    "pd.set_option('display.max_rows', 10)\n",
    "pd.set_option('display.max_columns', 1000)\n",
    "cwd = os.getcwd()\n",
    "# income_2011 = pd.read_stata(cwd + \"/CHARLS_2011/household_income.dta\")\n",
    "# income_2011 = income_2011[['householdID', 'ha074_1_', 'ha074_2_', 'ha074_3_', 'ha074_4_', 'ha074_5_', 'ha074_6_', 'ha074_7_', 'ha074_8_', 'ha074_9_', 'ha074_10_', 'ha074_11_', 'ha074_12_', 'ha074_13_', 'ha074_14_', 'ha074_15_', 'ha074_16_']]\n",
    "# income_2011['saving'] = income_2011.fillna(0)['ha074_1_'] + income_2011.fillna(0)['ha074_2_'] + income_2011.fillna(0)['ha074_3_'] + income_2011.fillna(0)['ha074_4_'] + income_2011.fillna(0)['ha074_5_'] + income_2011.fillna(0)['ha074_6_'] + income_2011.fillna(0)['ha074_7_'] + income_2011.fillna(0)['ha074_8_'] + income_2011.fillna(0)['ha074_9_'] + income_2011.fillna(0)['ha074_10_'] + income_2011.fillna(0)['ha074_11_'] + income_2011.fillna(0)['ha074_12_'] + income_2011.fillna(0)['ha074_13_'] + income_2011.fillna(0)['ha074_14_'] + income_2011.fillna(0)['ha074_15_'] + income_2011.fillna(0)['ha074_16_']\n",
    "# income_2011 = income_2011[['householdID', 'saving']]\n",
    "# income_2011 = income_2011.dropna()\n",
    "# income_2011 = income_2011[income_2011['saving'] != 0]\n",
    "# income_2011 = income_2011[income_2011['saving'] != -10000.000000]\n",
    "# income_2011['year'] = 2011\n",
    "# income_2011['saving'].describe()\n",
    "# income_2011"
   ]
  },
  {
   "cell_type": "code",
   "execution_count": 4,
   "metadata": {},
   "outputs": [
    {
     "data": {
      "text/plain": [
       "count    9.974000e+03\n",
       "mean     9.296798e+03\n",
       "std      6.453734e+04\n",
       "min      0.000000e+00\n",
       "25%      0.000000e+00\n",
       "50%      0.000000e+00\n",
       "75%      0.000000e+00\n",
       "max      4.000000e+06\n",
       "Name: saving, dtype: float64"
      ]
     },
     "execution_count": 4,
     "metadata": {},
     "output_type": "execute_result"
    }
   ],
   "source": [
    "ind_income_2011 = pd.read_stata(cwd + \"/CHARLS_2011/individual_income.dta\")\n",
    "ind_income_2011 = ind_income_2011[['householdID', 'hc004', 'hc005', 'hc006_1', 'hc006_2', 'hc006_3', 'hc006_4', 'hc006_5', 'hc006_6', 'hc006_7']]\n",
    "ind_income_2011['saving'] = -1\n",
    "ind_income_2011.loc[ind_income_2011['hc004'] == '2 No', 'saving'] = 0\n",
    "ind_income_2011.loc[ind_income_2011.hc005.notna(), 'saving'] = ind_income_2011['hc005'].astype(float)\n",
    "ind_income_2011.loc[ind_income_2011.hc006_1.notna(), 'saving'] = 2000\n",
    "ind_income_2011.loc[ind_income_2011.hc006_2.notna(), 'saving'] = 5000\n",
    "ind_income_2011.loc[ind_income_2011.hc006_3.notna(), 'saving'] = 10000\n",
    "ind_income_2011.loc[ind_income_2011.hc006_4.notna(), 'saving'] = 50000\n",
    "ind_income_2011.loc[ind_income_2011.hc006_5.notna(), 'saving'] = 100000\n",
    "ind_income_2011.loc[ind_income_2011.hc006_6.notna(), 'saving'] = 200000\n",
    "ind_income_2011.loc[ind_income_2011.hc006_7.notna(), 'saving'] = 500000\n",
    "ind_income_2011 = ind_income_2011[ind_income_2011['saving'] != -1]\n",
    "ind_income_2011 = ind_income_2011[['householdID', 'saving']]\n",
    "income_2011 = ind_income_2011.groupby(['householdID'], as_index = False)[\"saving\"].sum()\n",
    "income_2011['year'] = 2011\n",
    "income_2011['saving'].describe()\n"
   ]
  },
  {
   "cell_type": "code",
   "execution_count": 5,
   "metadata": {},
   "outputs": [
    {
     "data": {
      "text/plain": [
       "0           0.0\n",
       "1           0.0\n",
       "2           0.0\n",
       "3           0.0\n",
       "4           0.0\n",
       "         ...   \n",
       "9824        0.0\n",
       "9825        0.0\n",
       "9826      100.0\n",
       "9827    30000.0\n",
       "9828    50000.0\n",
       "Name: saving, Length: 9829, dtype: float64"
      ]
     },
     "execution_count": 5,
     "metadata": {},
     "output_type": "execute_result"
    }
   ],
   "source": [
    "# income_2013 = pd.read_stata(cwd + \"/CHARLS_2013/Household_Income.dta\")\n",
    "# income_2013 = income_2013[['ID','householdID', 'ha074_1_', 'ha074_2_', 'ha074_3_', 'ha074_4_', 'ha074_5_', 'ha074_6_', 'ha074_7_', 'ha074_8_', 'ha074_9_', 'ha074_10_', 'ha074_11_', 'ha074_12_', 'ha074_13_', 'ha074_14_', 'ha074_15_', 'ha074_16_']]\n",
    "# income_2013['saving'] = income_2013.fillna(0)['ha074_1_'] + income_2013.fillna(0)['ha074_2_'] + income_2013.fillna(0)['ha074_3_'] + income_2013.fillna(0)['ha074_4_'] + income_2013.fillna(0)['ha074_5_'] + income_2013.fillna(0)['ha074_6_'] + income_2013.fillna(0)['ha074_7_'] + income_2013.fillna(0)['ha074_8_'] + income_2013.fillna(0)['ha074_9_'] + income_2013.fillna(0)['ha074_10_'] + income_2013.fillna(0)['ha074_11_'] + income_2013.fillna(0)['ha074_12_'] + income_2013.fillna(0)['ha074_13_'] + income_2013.fillna(0)['ha074_14_'] + income_2013.fillna(0)['ha074_15_'] + income_2013.fillna(0)['ha074_16_']\n",
    "# income_2013 = income_2013[['householdID', 'saving']]\n",
    "# income_2013 = income_2013.dropna()\n",
    "# income_2013 = income_2013[income_2013['saving'] != 0]\n",
    "# income_2013 = income_2013[income_2013['saving'] != -10000.000000]\n",
    "# income_2013['year'] = 2013\n",
    "# income_2013['saving'].describe()\n",
    "ind_income_2013 = pd.read_stata(cwd + \"/CHARLS_2013/individual_income.dta\")\n",
    "ind_income_2013 = ind_income_2013[['householdID', 'hc005', 'hc006_bracket_max', 'hc006_bracket_min']]\n",
    "ind_income_2013['saving'] = -1\n",
    "ind_income_2013.loc[ind_income_2013.hc005.notna() , 'saving'] = ind_income_2013['hc005']\n",
    "ind_income_2013.loc[ind_income_2013.hc006_bracket_max.notna(), 'saving'] = 0.5 * (ind_income_2013['hc006_bracket_max'] + ind_income_2013['hc006_bracket_min'])\n",
    "#ind_income_2013['saving'].describe()\n",
    "ind_income_2013 = ind_income_2013[ind_income_2013['saving'] != -1]\n",
    "ind_income_2013 = ind_income_2013[['householdID', 'saving']]\n",
    "income_2013 = ind_income_2013.groupby(['householdID'], as_index = False)[\"saving\"].sum()\n",
    "income_2013['year'] = 2013\n",
    "income_2013['saving']\n",
    "\n"
   ]
  },
  {
   "cell_type": "code",
   "execution_count": 6,
   "metadata": {},
   "outputs": [
    {
     "data": {
      "text/plain": [
       "count    1.154900e+04\n",
       "mean     2.325131e+04\n",
       "std      1.147572e+05\n",
       "min      0.000000e+00\n",
       "25%      0.000000e+00\n",
       "50%      0.000000e+00\n",
       "75%      1.000000e+04\n",
       "max      8.000000e+06\n",
       "Name: saving, dtype: float64"
      ]
     },
     "execution_count": 6,
     "metadata": {},
     "output_type": "execute_result"
    }
   ],
   "source": [
    "# income_2015 = pd.read_stata(cwd + \"/CHARLS_2015/Individual_Income.dta\")\n",
    "# income_2015 = income_2015[['ID','householdID', 'hc001', 'hc002_bracket_max', 'hc002_bracket_min', 'hc005', 'hc006_bracket_max', 'hc006_bracket_min',\n",
    "#                           'hc008', 'hc009_bracket_max','hc009_bracket_min', 'hc013', 'hc014_bracket_max', 'hc014_bracket_min', \n",
    "#                           'hc018', 'hc019_bracket_max', 'hc019_bracket_min']]\n",
    "# income_2015['saving'] = income_2015.fillna(0)['hc001'] + 0.5 * income_2015.fillna(0)['hc002_bracket_max'] + 0.5 * income_2015.fillna(0)['hc002_bracket_min']\\\n",
    "# + income_2015.fillna(0)['hc005'] + 0.5 * income_2015.fillna(0)['hc006_bracket_max'] + 0.5 * income_2015.fillna(0)['hc006_bracket_min']\\\n",
    "# + income_2015.fillna(0)['hc008'] + 0.5 * income_2015.fillna(0)['hc009_bracket_max'] + 0.5 * income_2015.fillna(0)['hc009_bracket_min']\\\n",
    "# + income_2015.fillna(0)['hc013'] + 0.5 * income_2015.fillna(0)['hc014_bracket_max'] + 0.5 * income_2015.fillna(0)['hc014_bracket_min']\\\n",
    "# + income_2015.fillna(0)['hc018'] + 0.5 * income_2015.fillna(0)['hc019_bracket_max'] + 0.5 * income_2015.fillna(0)['hc019_bracket_min']\n",
    "\n",
    "# income_2015 = income_2015[['householdID', 'saving']]\n",
    "# income_2015.groupby(['householdID'])[\"saving\"].sum()\n",
    "# income_2015 = income_2015.groupby('householdID', as_index = False)['saving'].sum()\n",
    "# income_2015['year'] = 2015\n",
    "# income_2015['saving'].describe()\n",
    "ind_income_2015 = pd.read_stata(cwd + \"/CHARLS_2015/individual_income.dta\")\n",
    "ind_income_2015 = ind_income_2015[['householdID', 'hc005', 'hc006_bracket_max', 'hc006_bracket_min']]\n",
    "ind_income_2015['saving'] = -1\n",
    "ind_income_2015.loc[ind_income_2015.hc005.notna() , 'saving'] = ind_income_2015['hc005']\n",
    "ind_income_2015.loc[ind_income_2015.hc006_bracket_max.notna(), 'saving'] = 0.5 * (ind_income_2015['hc006_bracket_max'] + ind_income_2015['hc006_bracket_min'])\n",
    "#ind_income_2013['saving'].describe()\n",
    "ind_income_2015 = ind_income_2015[ind_income_2015['saving'] != -1]\n",
    "ind_income_2015 = ind_income_2015[['householdID', 'saving']]\n",
    "income_2015 = ind_income_2015.groupby(['householdID'], as_index = False)[\"saving\"].sum()\n",
    "income_2015['year'] = 2015\n",
    "income_2015['saving'].describe()\n"
   ]
  },
  {
   "cell_type": "code",
   "execution_count": 7,
   "metadata": {},
   "outputs": [
    {
     "data": {
      "text/html": [
       "<div>\n",
       "<style scoped>\n",
       "    .dataframe tbody tr th:only-of-type {\n",
       "        vertical-align: middle;\n",
       "    }\n",
       "\n",
       "    .dataframe tbody tr th {\n",
       "        vertical-align: top;\n",
       "    }\n",
       "\n",
       "    .dataframe thead th {\n",
       "        text-align: right;\n",
       "    }\n",
       "</style>\n",
       "<table border=\"1\" class=\"dataframe\">\n",
       "  <thead>\n",
       "    <tr style=\"text-align: right;\">\n",
       "      <th></th>\n",
       "      <th>ID</th>\n",
       "      <th>householdID</th>\n",
       "      <th>nrsp</th>\n",
       "      <th>saving</th>\n",
       "      <th>year</th>\n",
       "    </tr>\n",
       "  </thead>\n",
       "  <tbody>\n",
       "    <tr>\n",
       "      <th>0</th>\n",
       "      <td>010104101001</td>\n",
       "      <td>0101041010</td>\n",
       "      <td>0.0</td>\n",
       "      <td>0.0</td>\n",
       "      <td>2011</td>\n",
       "    </tr>\n",
       "    <tr>\n",
       "      <th>1</th>\n",
       "      <td>010104101002</td>\n",
       "      <td>0101041010</td>\n",
       "      <td>0.0</td>\n",
       "      <td>0.0</td>\n",
       "      <td>2011</td>\n",
       "    </tr>\n",
       "    <tr>\n",
       "      <th>2</th>\n",
       "      <td>010104102001</td>\n",
       "      <td>0101041020</td>\n",
       "      <td>0.0</td>\n",
       "      <td>0.0</td>\n",
       "      <td>2011</td>\n",
       "    </tr>\n",
       "    <tr>\n",
       "      <th>3</th>\n",
       "      <td>010104102002</td>\n",
       "      <td>0101041020</td>\n",
       "      <td>0.0</td>\n",
       "      <td>0.0</td>\n",
       "      <td>2011</td>\n",
       "    </tr>\n",
       "    <tr>\n",
       "      <th>4</th>\n",
       "      <td>010104103001</td>\n",
       "      <td>0101041030</td>\n",
       "      <td>0.0</td>\n",
       "      <td>0.0</td>\n",
       "      <td>2011</td>\n",
       "    </tr>\n",
       "    <tr>\n",
       "      <th>...</th>\n",
       "      <td>...</td>\n",
       "      <td>...</td>\n",
       "      <td>...</td>\n",
       "      <td>...</td>\n",
       "      <td>...</td>\n",
       "    </tr>\n",
       "    <tr>\n",
       "      <th>17266</th>\n",
       "      <td>347763309001</td>\n",
       "      <td>3477633090</td>\n",
       "      <td>0.0</td>\n",
       "      <td>50000.0</td>\n",
       "      <td>2011</td>\n",
       "    </tr>\n",
       "    <tr>\n",
       "      <th>17267</th>\n",
       "      <td>347763310001</td>\n",
       "      <td>3477633100</td>\n",
       "      <td>0.0</td>\n",
       "      <td>0.0</td>\n",
       "      <td>2011</td>\n",
       "    </tr>\n",
       "    <tr>\n",
       "      <th>17268</th>\n",
       "      <td>347763310002</td>\n",
       "      <td>3477633100</td>\n",
       "      <td>0.0</td>\n",
       "      <td>0.0</td>\n",
       "      <td>2011</td>\n",
       "    </tr>\n",
       "    <tr>\n",
       "      <th>17269</th>\n",
       "      <td>347763312001</td>\n",
       "      <td>3477633120</td>\n",
       "      <td>0.0</td>\n",
       "      <td>0.0</td>\n",
       "      <td>2011</td>\n",
       "    </tr>\n",
       "    <tr>\n",
       "      <th>17270</th>\n",
       "      <td>347763312002</td>\n",
       "      <td>3477633120</td>\n",
       "      <td>0.0</td>\n",
       "      <td>0.0</td>\n",
       "      <td>2011</td>\n",
       "    </tr>\n",
       "  </tbody>\n",
       "</table>\n",
       "<p>17271 rows × 5 columns</p>\n",
       "</div>"
      ],
      "text/plain": [
       "                 ID householdID  nrsp   saving  year\n",
       "0      010104101001  0101041010   0.0      0.0  2011\n",
       "1      010104101002  0101041010   0.0      0.0  2011\n",
       "2      010104102001  0101041020   0.0      0.0  2011\n",
       "3      010104102002  0101041020   0.0      0.0  2011\n",
       "4      010104103001  0101041030   0.0      0.0  2011\n",
       "...             ...         ...   ...      ...   ...\n",
       "17266  347763309001  3477633090   0.0  50000.0  2011\n",
       "17267  347763310001  3477633100   0.0      0.0  2011\n",
       "17268  347763310002  3477633100   0.0      0.0  2011\n",
       "17269  347763312001  3477633120   0.0      0.0  2011\n",
       "17270  347763312002  3477633120   0.0      0.0  2011\n",
       "\n",
       "[17271 rows x 5 columns]"
      ]
     },
     "execution_count": 7,
     "metadata": {},
     "output_type": "execute_result"
    }
   ],
   "source": [
    "pension_2011 = pd.read_stata(cwd + \"/CHARLS_2011/work_retirement_and_pension.dta\")\n",
    "pension_2011 = pension_2011[(pension_2011['fn038'] == \"2 No\") | (pension_2011['fn038'] == \"1 Yes\")]\n",
    "pension_2011 = pension_2011[['ID', 'householdID', 'fn079']]\n",
    "pension_2011['nrsp'] = pension_2011.fillna(0)['fn079']\n",
    "pension_2011 = pension_2011[['ID', 'householdID', 'nrsp']]\n",
    "df_2011 = pd.merge(pension_2011, income_2011, on='householdID', how='inner')\n",
    "df_2011['householdID'] = df_2011['householdID'] + \"0\"\n",
    "df_2011['ID'] = df_2011['householdID'] + df_2011['ID'].str[-2:]\n",
    "id_list = df_2011[['ID']]\n",
    "df_2011['nrsp'].describe()\n",
    "df_2011\n",
    "\n",
    "\n"
   ]
  },
  {
   "cell_type": "code",
   "execution_count": 8,
   "metadata": {},
   "outputs": [
    {
     "data": {
      "text/plain": [
       "count    18215.000000\n",
       "mean        19.283005\n",
       "std         71.267527\n",
       "min          0.000000\n",
       "25%          0.000000\n",
       "50%          0.000000\n",
       "75%          0.000000\n",
       "max       3100.000000\n",
       "Name: nrsp, dtype: float64"
      ]
     },
     "execution_count": 8,
     "metadata": {},
     "output_type": "execute_result"
    }
   ],
   "source": [
    "pension_2013 = pd.read_stata(cwd + \"/CHARLS_2013/Work_Retirement_and_Pension.dta\")\n",
    "pension_2013 = pension_2013[(pension_2013['fn069_w2'] == \"2 No\") | (pension_2013['fn069_w2'] == \"1 Yes\")]\n",
    "pension_2013 = pension_2013[['ID', 'householdID', 'fn077_w2']]\n",
    "pension_2013['nrsp'] = pension_2013.fillna(0)['fn077_w2']\n",
    "pension_2013 = pension_2013[['ID', 'householdID', 'nrsp']]\n",
    "pension_2013['nrsp'].describe()\n",
    "\n"
   ]
  },
  {
   "cell_type": "code",
   "execution_count": 9,
   "metadata": {},
   "outputs": [
    {
     "data": {
      "text/html": [
       "<div>\n",
       "<style scoped>\n",
       "    .dataframe tbody tr th:only-of-type {\n",
       "        vertical-align: middle;\n",
       "    }\n",
       "\n",
       "    .dataframe tbody tr th {\n",
       "        vertical-align: top;\n",
       "    }\n",
       "\n",
       "    .dataframe thead th {\n",
       "        text-align: right;\n",
       "    }\n",
       "</style>\n",
       "<table border=\"1\" class=\"dataframe\">\n",
       "  <thead>\n",
       "    <tr style=\"text-align: right;\">\n",
       "      <th></th>\n",
       "      <th>ID</th>\n",
       "      <th>householdID</th>\n",
       "      <th>nrsp</th>\n",
       "      <th>saving</th>\n",
       "      <th>year</th>\n",
       "    </tr>\n",
       "  </thead>\n",
       "  <tbody>\n",
       "    <tr>\n",
       "      <th>0</th>\n",
       "      <td>010104101001</td>\n",
       "      <td>0101041010</td>\n",
       "      <td>0.0</td>\n",
       "      <td>0.0</td>\n",
       "      <td>2013</td>\n",
       "    </tr>\n",
       "    <tr>\n",
       "      <th>1</th>\n",
       "      <td>010104101002</td>\n",
       "      <td>0101041010</td>\n",
       "      <td>0.0</td>\n",
       "      <td>0.0</td>\n",
       "      <td>2013</td>\n",
       "    </tr>\n",
       "    <tr>\n",
       "      <th>2</th>\n",
       "      <td>010104102001</td>\n",
       "      <td>0101041020</td>\n",
       "      <td>0.0</td>\n",
       "      <td>0.0</td>\n",
       "      <td>2013</td>\n",
       "    </tr>\n",
       "    <tr>\n",
       "      <th>3</th>\n",
       "      <td>010104102002</td>\n",
       "      <td>0101041020</td>\n",
       "      <td>55.0</td>\n",
       "      <td>0.0</td>\n",
       "      <td>2013</td>\n",
       "    </tr>\n",
       "    <tr>\n",
       "      <th>4</th>\n",
       "      <td>010104103001</td>\n",
       "      <td>0101041030</td>\n",
       "      <td>0.0</td>\n",
       "      <td>0.0</td>\n",
       "      <td>2013</td>\n",
       "    </tr>\n",
       "    <tr>\n",
       "      <th>...</th>\n",
       "      <td>...</td>\n",
       "      <td>...</td>\n",
       "      <td>...</td>\n",
       "      <td>...</td>\n",
       "      <td>...</td>\n",
       "    </tr>\n",
       "    <tr>\n",
       "      <th>17070</th>\n",
       "      <td>347763310001</td>\n",
       "      <td>3477633100</td>\n",
       "      <td>0.0</td>\n",
       "      <td>0.0</td>\n",
       "      <td>2013</td>\n",
       "    </tr>\n",
       "    <tr>\n",
       "      <th>17071</th>\n",
       "      <td>347763311001</td>\n",
       "      <td>3477633110</td>\n",
       "      <td>0.0</td>\n",
       "      <td>100.0</td>\n",
       "      <td>2013</td>\n",
       "    </tr>\n",
       "    <tr>\n",
       "      <th>17072</th>\n",
       "      <td>347763311002</td>\n",
       "      <td>3477633110</td>\n",
       "      <td>0.0</td>\n",
       "      <td>100.0</td>\n",
       "      <td>2013</td>\n",
       "    </tr>\n",
       "    <tr>\n",
       "      <th>17073</th>\n",
       "      <td>347763313002</td>\n",
       "      <td>3477633130</td>\n",
       "      <td>0.0</td>\n",
       "      <td>30000.0</td>\n",
       "      <td>2013</td>\n",
       "    </tr>\n",
       "    <tr>\n",
       "      <th>17074</th>\n",
       "      <td>347763314002</td>\n",
       "      <td>3477633140</td>\n",
       "      <td>0.0</td>\n",
       "      <td>50000.0</td>\n",
       "      <td>2013</td>\n",
       "    </tr>\n",
       "  </tbody>\n",
       "</table>\n",
       "<p>17075 rows × 5 columns</p>\n",
       "</div>"
      ],
      "text/plain": [
       "                 ID householdID  nrsp   saving  year\n",
       "0      010104101001  0101041010   0.0      0.0  2013\n",
       "1      010104101002  0101041010   0.0      0.0  2013\n",
       "2      010104102001  0101041020   0.0      0.0  2013\n",
       "3      010104102002  0101041020  55.0      0.0  2013\n",
       "4      010104103001  0101041030   0.0      0.0  2013\n",
       "...             ...         ...   ...      ...   ...\n",
       "17070  347763310001  3477633100   0.0      0.0  2013\n",
       "17071  347763311001  3477633110   0.0    100.0  2013\n",
       "17072  347763311002  3477633110   0.0    100.0  2013\n",
       "17073  347763313002  3477633130   0.0  30000.0  2013\n",
       "17074  347763314002  3477633140   0.0  50000.0  2013\n",
       "\n",
       "[17075 rows x 5 columns]"
      ]
     },
     "execution_count": 9,
     "metadata": {},
     "output_type": "execute_result"
    }
   ],
   "source": [
    "df_2013 = pd.merge(pension_2013, income_2013, on='householdID', how='inner')\n",
    "df_2013"
   ]
  },
  {
   "cell_type": "code",
   "execution_count": 10,
   "metadata": {},
   "outputs": [
    {
     "data": {
      "text/plain": [
       "count    14012.000000\n",
       "mean         5.373809\n",
       "std         31.942345\n",
       "min          0.000000\n",
       "25%          0.000000\n",
       "50%          0.000000\n",
       "75%          0.000000\n",
       "max       1100.000000\n",
       "Name: nrsp, dtype: float64"
      ]
     },
     "execution_count": 10,
     "metadata": {},
     "output_type": "execute_result"
    }
   ],
   "source": [
    "temp_list = df_2013['ID'].to_frame()\n",
    "pension_2011 = pd.read_stata(cwd + \"/CHARLS_2011/work_retirement_and_pension.dta\")\n",
    "# pension_2011 = pension_2011[(pension_2011['fn038'] == \"2 No\") | (pension_2011['fn038'] == \"1 Yes\")]\n",
    "pension_2011 = pension_2011[['ID', 'householdID', 'fn079']]\n",
    "pension_2011['householdID'] = pension_2011['householdID'] + \"0\"\n",
    "pension_2011['ID'] = pension_2011['householdID'] + pension_2011['ID'].str[-2:]\n",
    "pension_2011 = pd.merge(pension_2011, temp_list, on='ID', how='inner')\n",
    "pension_2011['nrsp'] = pension_2011.fillna(0)['fn079']\n",
    "pension_2011 = pension_2011[['ID', 'householdID', 'nrsp']]\n",
    "pension_2011['nrsp'].describe()"
   ]
  },
  {
   "cell_type": "code",
   "execution_count": 11,
   "metadata": {},
   "outputs": [
    {
     "data": {
      "text/html": [
       "<div>\n",
       "<style scoped>\n",
       "    .dataframe tbody tr th:only-of-type {\n",
       "        vertical-align: middle;\n",
       "    }\n",
       "\n",
       "    .dataframe tbody tr th {\n",
       "        vertical-align: top;\n",
       "    }\n",
       "\n",
       "    .dataframe thead th {\n",
       "        text-align: right;\n",
       "    }\n",
       "</style>\n",
       "<table border=\"1\" class=\"dataframe\">\n",
       "  <thead>\n",
       "    <tr style=\"text-align: right;\">\n",
       "      <th></th>\n",
       "      <th>ID</th>\n",
       "      <th>householdID</th>\n",
       "      <th>nrsp</th>\n",
       "      <th>saving</th>\n",
       "      <th>year</th>\n",
       "    </tr>\n",
       "  </thead>\n",
       "  <tbody>\n",
       "    <tr>\n",
       "      <th>0</th>\n",
       "      <td>010104101001</td>\n",
       "      <td>0101041010</td>\n",
       "      <td>0.0</td>\n",
       "      <td>0.0</td>\n",
       "      <td>2011</td>\n",
       "    </tr>\n",
       "    <tr>\n",
       "      <th>1</th>\n",
       "      <td>010104101002</td>\n",
       "      <td>0101041010</td>\n",
       "      <td>0.0</td>\n",
       "      <td>0.0</td>\n",
       "      <td>2011</td>\n",
       "    </tr>\n",
       "    <tr>\n",
       "      <th>2</th>\n",
       "      <td>010104102001</td>\n",
       "      <td>0101041020</td>\n",
       "      <td>0.0</td>\n",
       "      <td>0.0</td>\n",
       "      <td>2011</td>\n",
       "    </tr>\n",
       "    <tr>\n",
       "      <th>3</th>\n",
       "      <td>010104102002</td>\n",
       "      <td>0101041020</td>\n",
       "      <td>0.0</td>\n",
       "      <td>0.0</td>\n",
       "      <td>2011</td>\n",
       "    </tr>\n",
       "    <tr>\n",
       "      <th>4</th>\n",
       "      <td>010104103001</td>\n",
       "      <td>0101041030</td>\n",
       "      <td>0.0</td>\n",
       "      <td>0.0</td>\n",
       "      <td>2011</td>\n",
       "    </tr>\n",
       "    <tr>\n",
       "      <th>...</th>\n",
       "      <td>...</td>\n",
       "      <td>...</td>\n",
       "      <td>...</td>\n",
       "      <td>...</td>\n",
       "      <td>...</td>\n",
       "    </tr>\n",
       "    <tr>\n",
       "      <th>13890</th>\n",
       "      <td>347763302001</td>\n",
       "      <td>3477633020</td>\n",
       "      <td>0.0</td>\n",
       "      <td>0.0</td>\n",
       "      <td>2011</td>\n",
       "    </tr>\n",
       "    <tr>\n",
       "      <th>13891</th>\n",
       "      <td>347763302002</td>\n",
       "      <td>3477633020</td>\n",
       "      <td>0.0</td>\n",
       "      <td>0.0</td>\n",
       "      <td>2011</td>\n",
       "    </tr>\n",
       "    <tr>\n",
       "      <th>13892</th>\n",
       "      <td>347763306001</td>\n",
       "      <td>3477633060</td>\n",
       "      <td>0.0</td>\n",
       "      <td>498.0</td>\n",
       "      <td>2011</td>\n",
       "    </tr>\n",
       "    <tr>\n",
       "      <th>13893</th>\n",
       "      <td>347763306002</td>\n",
       "      <td>3477633060</td>\n",
       "      <td>0.0</td>\n",
       "      <td>498.0</td>\n",
       "      <td>2011</td>\n",
       "    </tr>\n",
       "    <tr>\n",
       "      <th>13894</th>\n",
       "      <td>347763310001</td>\n",
       "      <td>3477633100</td>\n",
       "      <td>0.0</td>\n",
       "      <td>0.0</td>\n",
       "      <td>2011</td>\n",
       "    </tr>\n",
       "  </tbody>\n",
       "</table>\n",
       "<p>13895 rows × 5 columns</p>\n",
       "</div>"
      ],
      "text/plain": [
       "                 ID householdID  nrsp  saving  year\n",
       "0      010104101001  0101041010   0.0     0.0  2011\n",
       "1      010104101002  0101041010   0.0     0.0  2011\n",
       "2      010104102001  0101041020   0.0     0.0  2011\n",
       "3      010104102002  0101041020   0.0     0.0  2011\n",
       "4      010104103001  0101041030   0.0     0.0  2011\n",
       "...             ...         ...   ...     ...   ...\n",
       "13890  347763302001  3477633020   0.0     0.0  2011\n",
       "13891  347763302002  3477633020   0.0     0.0  2011\n",
       "13892  347763306001  3477633060   0.0   498.0  2011\n",
       "13893  347763306002  3477633060   0.0   498.0  2011\n",
       "13894  347763310001  3477633100   0.0     0.0  2011\n",
       "\n",
       "[13895 rows x 5 columns]"
      ]
     },
     "execution_count": 11,
     "metadata": {},
     "output_type": "execute_result"
    }
   ],
   "source": [
    "temp_list = df_2013['ID'].to_frame()\n",
    "pension_2011 = pd.read_stata(cwd + \"/CHARLS_2011/work_retirement_and_pension.dta\")\n",
    "# pension_2011 = pension_2011[(pension_2011['fn038'] == \"2 No\") | (pension_2011['fn038'] == \"1 Yes\")]\n",
    "pension_2011 = pension_2011[['ID', 'householdID', 'fn079']]\n",
    "pension_2011['householdID'] = pension_2011['householdID'] + \"0\"\n",
    "pension_2011['ID'] = pension_2011['householdID'] + pension_2011['ID'].str[-2:]\n",
    "pension_2011 = pd.merge(pension_2011, temp_list, on='ID', how='inner')\n",
    "pension_2011['nrsp'] = pension_2011.fillna(0)['fn079']\n",
    "pension_2011 = pension_2011[['ID', 'householdID', 'nrsp']]\n",
    "income_2011['householdID'] = income_2011['householdID'] + \"0\"\n",
    "df_2011 = pd.merge(pension_2011, income_2011, on='householdID', how='inner')\n",
    "# df_2011['householdID'] = df_2011['householdID'] + \"0\"\n",
    "# df_2011['ID'] = df_2011['householdID'] + df_2011['ID'].str[-2:]\n",
    "id_list = df_2011[['ID']]\n",
    "df_2011['nrsp'].describe()\n",
    "df_2011\n",
    "\n"
   ]
  },
  {
   "cell_type": "code",
   "execution_count": 12,
   "metadata": {},
   "outputs": [
    {
     "data": {
      "text/html": [
       "<div>\n",
       "<style scoped>\n",
       "    .dataframe tbody tr th:only-of-type {\n",
       "        vertical-align: middle;\n",
       "    }\n",
       "\n",
       "    .dataframe tbody tr th {\n",
       "        vertical-align: top;\n",
       "    }\n",
       "\n",
       "    .dataframe thead th {\n",
       "        text-align: right;\n",
       "    }\n",
       "</style>\n",
       "<table border=\"1\" class=\"dataframe\">\n",
       "  <thead>\n",
       "    <tr style=\"text-align: right;\">\n",
       "      <th></th>\n",
       "      <th>ID</th>\n",
       "    </tr>\n",
       "  </thead>\n",
       "  <tbody>\n",
       "    <tr>\n",
       "      <th>0</th>\n",
       "      <td>010104101001</td>\n",
       "    </tr>\n",
       "    <tr>\n",
       "      <th>1</th>\n",
       "      <td>010104101002</td>\n",
       "    </tr>\n",
       "    <tr>\n",
       "      <th>2</th>\n",
       "      <td>010104102001</td>\n",
       "    </tr>\n",
       "    <tr>\n",
       "      <th>3</th>\n",
       "      <td>010104102002</td>\n",
       "    </tr>\n",
       "    <tr>\n",
       "      <th>4</th>\n",
       "      <td>010104103001</td>\n",
       "    </tr>\n",
       "    <tr>\n",
       "      <th>...</th>\n",
       "      <td>...</td>\n",
       "    </tr>\n",
       "    <tr>\n",
       "      <th>13890</th>\n",
       "      <td>347763302001</td>\n",
       "    </tr>\n",
       "    <tr>\n",
       "      <th>13891</th>\n",
       "      <td>347763302002</td>\n",
       "    </tr>\n",
       "    <tr>\n",
       "      <th>13892</th>\n",
       "      <td>347763306001</td>\n",
       "    </tr>\n",
       "    <tr>\n",
       "      <th>13893</th>\n",
       "      <td>347763306002</td>\n",
       "    </tr>\n",
       "    <tr>\n",
       "      <th>13894</th>\n",
       "      <td>347763310001</td>\n",
       "    </tr>\n",
       "  </tbody>\n",
       "</table>\n",
       "<p>13895 rows × 1 columns</p>\n",
       "</div>"
      ],
      "text/plain": [
       "                 ID\n",
       "0      010104101001\n",
       "1      010104101002\n",
       "2      010104102001\n",
       "3      010104102002\n",
       "4      010104103001\n",
       "...             ...\n",
       "13890  347763302001\n",
       "13891  347763302002\n",
       "13892  347763306001\n",
       "13893  347763306002\n",
       "13894  347763310001\n",
       "\n",
       "[13895 rows x 1 columns]"
      ]
     },
     "execution_count": 12,
     "metadata": {},
     "output_type": "execute_result"
    }
   ],
   "source": [
    "id_list"
   ]
  },
  {
   "cell_type": "code",
   "execution_count": 13,
   "metadata": {},
   "outputs": [
    {
     "data": {
      "text/plain": [
       "0        010104101001\n",
       "1        010104101002\n",
       "2        010104102001\n",
       "3        010104102002\n",
       "4        010104103001\n",
       "             ...     \n",
       "17070    347763310001\n",
       "17071    347763311001\n",
       "17072    347763311002\n",
       "17073    347763313002\n",
       "17074    347763314002\n",
       "Name: ID, Length: 17075, dtype: object"
      ]
     },
     "execution_count": 13,
     "metadata": {},
     "output_type": "execute_result"
    }
   ],
   "source": [
    "df_2013['ID']"
   ]
  },
  {
   "cell_type": "code",
   "execution_count": null,
   "metadata": {},
   "outputs": [],
   "source": []
  },
  {
   "cell_type": "code",
   "execution_count": 14,
   "metadata": {},
   "outputs": [
    {
     "data": {
      "text/plain": [
       "count    20248.000000\n",
       "mean        33.312993\n",
       "std        126.985546\n",
       "min          0.000000\n",
       "25%          0.000000\n",
       "50%          0.000000\n",
       "75%          0.000000\n",
       "max       3000.000000\n",
       "Name: nrsp, dtype: float64"
      ]
     },
     "execution_count": 14,
     "metadata": {},
     "output_type": "execute_result"
    }
   ],
   "source": [
    "pension_2015 = pd.read_stata(cwd + \"/CHARLS_2015/Work_Retirement_and_Pension.dta\")\n",
    "pension_2015 = pension_2015[['ID', 'householdID', 'fn068_w2_1_', 'fn068_w2_2_', 'fn068_w2_3_']]\n",
    "pension_2015['nrsp'] = pension_2015.fillna(0)['fn068_w2_1_'] + 0.5 * pension_2015.fillna(0)['fn068_w2_2_'] + 0.5 * pension_2015.fillna(0)['fn068_w2_3_']\n",
    "pension_2015 = pension_2015[['ID', 'householdID', 'nrsp']]\n",
    "df_2015 = pd.merge(pension_2015, income_2015, on='householdID', how='inner')\n",
    "df_2015['nrsp'].describe()"
   ]
  },
  {
   "cell_type": "code",
   "execution_count": 15,
   "metadata": {},
   "outputs": [
    {
     "data": {
      "text/html": [
       "<div>\n",
       "<style scoped>\n",
       "    .dataframe tbody tr th:only-of-type {\n",
       "        vertical-align: middle;\n",
       "    }\n",
       "\n",
       "    .dataframe tbody tr th {\n",
       "        vertical-align: top;\n",
       "    }\n",
       "\n",
       "    .dataframe thead th {\n",
       "        text-align: right;\n",
       "    }\n",
       "</style>\n",
       "<table border=\"1\" class=\"dataframe\">\n",
       "  <thead>\n",
       "    <tr style=\"text-align: right;\">\n",
       "      <th></th>\n",
       "      <th>ID</th>\n",
       "      <th>gender</th>\n",
       "    </tr>\n",
       "  </thead>\n",
       "  <tbody>\n",
       "    <tr>\n",
       "      <th>0</th>\n",
       "      <td>010104101001</td>\n",
       "      <td>2</td>\n",
       "    </tr>\n",
       "    <tr>\n",
       "      <th>1</th>\n",
       "      <td>010104101002</td>\n",
       "      <td>1</td>\n",
       "    </tr>\n",
       "    <tr>\n",
       "      <th>2</th>\n",
       "      <td>010104102001</td>\n",
       "      <td>2</td>\n",
       "    </tr>\n",
       "    <tr>\n",
       "      <th>3</th>\n",
       "      <td>010104102002</td>\n",
       "      <td>1</td>\n",
       "    </tr>\n",
       "    <tr>\n",
       "      <th>4</th>\n",
       "      <td>010104103001</td>\n",
       "      <td>1</td>\n",
       "    </tr>\n",
       "    <tr>\n",
       "      <th>...</th>\n",
       "      <td>...</td>\n",
       "      <td>...</td>\n",
       "    </tr>\n",
       "    <tr>\n",
       "      <th>18600</th>\n",
       "      <td>347763310001</td>\n",
       "      <td>1</td>\n",
       "    </tr>\n",
       "    <tr>\n",
       "      <th>18601</th>\n",
       "      <td>347763311001</td>\n",
       "      <td>2</td>\n",
       "    </tr>\n",
       "    <tr>\n",
       "      <th>18602</th>\n",
       "      <td>347763311002</td>\n",
       "      <td>1</td>\n",
       "    </tr>\n",
       "    <tr>\n",
       "      <th>18603</th>\n",
       "      <td>347763313002</td>\n",
       "      <td>1</td>\n",
       "    </tr>\n",
       "    <tr>\n",
       "      <th>18604</th>\n",
       "      <td>347763314002</td>\n",
       "      <td>1</td>\n",
       "    </tr>\n",
       "  </tbody>\n",
       "</table>\n",
       "<p>18605 rows × 2 columns</p>\n",
       "</div>"
      ],
      "text/plain": [
       "                 ID  gender\n",
       "0      010104101001       2\n",
       "1      010104101002       1\n",
       "2      010104102001       2\n",
       "3      010104102002       1\n",
       "4      010104103001       1\n",
       "...             ...     ...\n",
       "18600  347763310001       1\n",
       "18601  347763311001       2\n",
       "18602  347763311002       1\n",
       "18603  347763313002       1\n",
       "18604  347763314002       1\n",
       "\n",
       "[18605 rows x 2 columns]"
      ]
     },
     "execution_count": 15,
     "metadata": {},
     "output_type": "execute_result"
    }
   ],
   "source": [
    "gender_2013 = pd.read_stata(cwd + \"/CHARLS_2013/Demographic_Background.dta\")\n",
    "gender_2013 = gender_2013[['ID', 'ba000_w2_3']]\n",
    "gender_2013['gender'] = 0\n",
    "gender_2013.loc[gender_2013.ba000_w2_3 == \"2 female\", 'gender'] = 2\n",
    "gender_2013.loc[gender_2013.ba000_w2_3 == \"1 male\", 'gender'] = 1\n",
    "gender_2013 = gender_2013[['ID', 'gender']]\n",
    "gender_2013"
   ]
  },
  {
   "cell_type": "code",
   "execution_count": 16,
   "metadata": {},
   "outputs": [],
   "source": [
    "#df_2011['ID'] = df_2011['ID'].str[:9] + '0' + df_2011['ID'].str[9:]"
   ]
  },
  {
   "cell_type": "code",
   "execution_count": 17,
   "metadata": {},
   "outputs": [],
   "source": [
    "df_2011.to_csv('2011.csv')\n",
    "df_2013.to_csv('2013.csv')\n",
    "df_2015.to_csv('2015.csv')\n",
    "gender_2013.to_csv('gender.csv')"
   ]
  },
  {
   "cell_type": "code",
   "execution_count": 18,
   "metadata": {},
   "outputs": [
    {
     "data": {
      "text/plain": [
       "count    18215.000000\n",
       "mean        19.283005\n",
       "std         71.267527\n",
       "min          0.000000\n",
       "25%          0.000000\n",
       "50%          0.000000\n",
       "75%          0.000000\n",
       "max       3100.000000\n",
       "Name: nrsp, dtype: float64"
      ]
     },
     "execution_count": 18,
     "metadata": {},
     "output_type": "execute_result"
    }
   ],
   "source": [
    "pension_2013 = pd.read_stata(cwd + \"/CHARLS_2013/Work_Retirement_and_Pension.dta\")\n",
    "pension_2013 = pension_2013[(pension_2013['fn069_w2'] == \"2 No\") | (pension_2013['fn069_w2'] == \"1 Yes\")]\n",
    "pension_2013 = pension_2013[['ID', 'householdID', 'fn077_w2']]\n",
    "pension_2013['nrsp'] = pension_2013.fillna(0)['fn077_w2']\n",
    "pension_2013 = pension_2013[['ID', 'householdID', 'nrsp']]\n",
    "pension_2013['nrsp'].describe()"
   ]
  },
  {
   "cell_type": "code",
   "execution_count": 19,
   "metadata": {},
   "outputs": [
    {
     "data": {
      "text/html": [
       "<div>\n",
       "<style scoped>\n",
       "    .dataframe tbody tr th:only-of-type {\n",
       "        vertical-align: middle;\n",
       "    }\n",
       "\n",
       "    .dataframe tbody tr th {\n",
       "        vertical-align: top;\n",
       "    }\n",
       "\n",
       "    .dataframe thead th {\n",
       "        text-align: right;\n",
       "    }\n",
       "</style>\n",
       "<table border=\"1\" class=\"dataframe\">\n",
       "  <thead>\n",
       "    <tr style=\"text-align: right;\">\n",
       "      <th></th>\n",
       "      <th>ID</th>\n",
       "    </tr>\n",
       "  </thead>\n",
       "  <tbody>\n",
       "    <tr>\n",
       "      <th>0</th>\n",
       "      <td>010104101001</td>\n",
       "    </tr>\n",
       "    <tr>\n",
       "      <th>1</th>\n",
       "      <td>010104101002</td>\n",
       "    </tr>\n",
       "    <tr>\n",
       "      <th>2</th>\n",
       "      <td>010104102001</td>\n",
       "    </tr>\n",
       "    <tr>\n",
       "      <th>3</th>\n",
       "      <td>010104102002</td>\n",
       "    </tr>\n",
       "    <tr>\n",
       "      <th>4</th>\n",
       "      <td>010104103001</td>\n",
       "    </tr>\n",
       "    <tr>\n",
       "      <th>...</th>\n",
       "      <td>...</td>\n",
       "    </tr>\n",
       "    <tr>\n",
       "      <th>12290</th>\n",
       "      <td>347763301001</td>\n",
       "    </tr>\n",
       "    <tr>\n",
       "      <th>12291</th>\n",
       "      <td>347763302001</td>\n",
       "    </tr>\n",
       "    <tr>\n",
       "      <th>12292</th>\n",
       "      <td>347763302002</td>\n",
       "    </tr>\n",
       "    <tr>\n",
       "      <th>12293</th>\n",
       "      <td>347763306001</td>\n",
       "    </tr>\n",
       "    <tr>\n",
       "      <th>12294</th>\n",
       "      <td>347763306002</td>\n",
       "    </tr>\n",
       "  </tbody>\n",
       "</table>\n",
       "<p>12295 rows × 1 columns</p>\n",
       "</div>"
      ],
      "text/plain": [
       "                 ID\n",
       "0      010104101001\n",
       "1      010104101002\n",
       "2      010104102001\n",
       "3      010104102002\n",
       "4      010104103001\n",
       "...             ...\n",
       "12290  347763301001\n",
       "12291  347763302001\n",
       "12292  347763302002\n",
       "12293  347763306001\n",
       "12294  347763306002\n",
       "\n",
       "[12295 rows x 1 columns]"
      ]
     },
     "execution_count": 19,
     "metadata": {},
     "output_type": "execute_result"
    }
   ],
   "source": [
    "id_list11 = df_2011[['ID']]\n",
    "id_list13 = df_2013[['ID']]\n",
    "id_list15 = df_2015[['ID']]\n",
    "\n",
    "id_list = pd.merge(id_list11, id_list13, on='ID', how='inner')\n",
    "id_list = pd.merge(id_list, id_list15, on='ID', how='inner')\n",
    "\n",
    "id_list"
   ]
  },
  {
   "cell_type": "code",
   "execution_count": 20,
   "metadata": {},
   "outputs": [
    {
     "data": {
      "text/plain": [
       "count     12295.000000\n",
       "mean       7912.364213\n",
       "std       31438.060226\n",
       "min           0.000000\n",
       "25%           0.000000\n",
       "50%           0.000000\n",
       "75%           0.000000\n",
       "max      800000.000000\n",
       "Name: saving, dtype: float64"
      ]
     },
     "execution_count": 20,
     "metadata": {},
     "output_type": "execute_result"
    }
   ],
   "source": [
    "df_2011 = pd.merge(id_list, df_2011, on='ID', how='inner')\n",
    "df_2011['saving'].describe()"
   ]
  },
  {
   "cell_type": "code",
   "execution_count": 21,
   "metadata": {},
   "outputs": [
    {
     "data": {
      "text/plain": [
       "count    12295.000000\n",
       "mean         5.446345\n",
       "std         32.899079\n",
       "min          0.000000\n",
       "25%          0.000000\n",
       "50%          0.000000\n",
       "75%          0.000000\n",
       "max       1100.000000\n",
       "Name: nrsp, dtype: float64"
      ]
     },
     "execution_count": 21,
     "metadata": {},
     "output_type": "execute_result"
    }
   ],
   "source": [
    "df_2011['nrsp'].describe()"
   ]
  },
  {
   "cell_type": "code",
   "execution_count": 22,
   "metadata": {},
   "outputs": [
    {
     "data": {
      "text/plain": [
       "count    1.229500e+04\n",
       "mean     1.428144e+04\n",
       "std      5.066669e+04\n",
       "min      0.000000e+00\n",
       "25%      0.000000e+00\n",
       "50%      0.000000e+00\n",
       "75%      6.000000e+03\n",
       "max      1.050000e+06\n",
       "Name: saving, dtype: float64"
      ]
     },
     "execution_count": 22,
     "metadata": {},
     "output_type": "execute_result"
    }
   ],
   "source": [
    "df_2013 = pd.merge(id_list, df_2013, on='ID', how='inner')\n",
    "df_2013['saving'].describe()"
   ]
  },
  {
   "cell_type": "code",
   "execution_count": 23,
   "metadata": {},
   "outputs": [
    {
     "data": {
      "text/plain": [
       "count    12295.000000\n",
       "mean        20.954231\n",
       "std         68.252109\n",
       "min          0.000000\n",
       "25%          0.000000\n",
       "50%          0.000000\n",
       "75%         50.000000\n",
       "max       2200.000000\n",
       "Name: nrsp, dtype: float64"
      ]
     },
     "execution_count": 23,
     "metadata": {},
     "output_type": "execute_result"
    }
   ],
   "source": [
    "df_2013['nrsp'].describe()"
   ]
  },
  {
   "cell_type": "code",
   "execution_count": 24,
   "metadata": {},
   "outputs": [
    {
     "data": {
      "text/plain": [
       "count    1.229500e+04\n",
       "mean     1.968544e+04\n",
       "std      1.012923e+05\n",
       "min      0.000000e+00\n",
       "25%      0.000000e+00\n",
       "50%      0.000000e+00\n",
       "75%      1.000000e+04\n",
       "max      8.000000e+06\n",
       "Name: saving, dtype: float64"
      ]
     },
     "execution_count": 24,
     "metadata": {},
     "output_type": "execute_result"
    }
   ],
   "source": [
    "df_2015 = pd.merge(id_list, df_2015, on='ID', how='inner')\n",
    "df_2015['saving'].describe()"
   ]
  },
  {
   "cell_type": "code",
   "execution_count": 25,
   "metadata": {},
   "outputs": [
    {
     "data": {
      "text/plain": [
       "count    12295.000000\n",
       "mean        41.015981\n",
       "std        135.280044\n",
       "min          0.000000\n",
       "25%          0.000000\n",
       "50%          0.000000\n",
       "75%         55.000000\n",
       "max       3000.000000\n",
       "Name: nrsp, dtype: float64"
      ]
     },
     "execution_count": 25,
     "metadata": {},
     "output_type": "execute_result"
    }
   ],
   "source": [
    "df_2015['nrsp'].describe()"
   ]
  },
  {
   "cell_type": "code",
   "execution_count": null,
   "metadata": {},
   "outputs": [],
   "source": []
  }
 ],
 "metadata": {
  "kernelspec": {
   "display_name": "Python 3",
   "language": "python",
   "name": "python3"
  },
  "language_info": {
   "codemirror_mode": {
    "name": "ipython",
    "version": 3
   },
   "file_extension": ".py",
   "mimetype": "text/x-python",
   "name": "python",
   "nbconvert_exporter": "python",
   "pygments_lexer": "ipython3",
   "version": "3.6.8"
  }
 },
 "nbformat": 4,
 "nbformat_minor": 2
}
